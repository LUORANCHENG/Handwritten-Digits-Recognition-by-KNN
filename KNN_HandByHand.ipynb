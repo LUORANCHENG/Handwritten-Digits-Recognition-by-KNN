{
 "cells": [
  {
   "cell_type": "markdown",
   "metadata": {},
   "source": [
    "## 1.导入对应的模块"
   ]
  },
  {
   "cell_type": "code",
   "execution_count": 19,
   "metadata": {},
   "outputs": [],
   "source": [
    "import numpy as np\n",
    "import os"
   ]
  },
  {
   "cell_type": "markdown",
   "metadata": {},
   "source": [
    "## 2.数据可视化"
   ]
  },
  {
   "cell_type": "markdown",
   "metadata": {},
   "source": [
    "### 2.1定义一个用来处理一个数据的函数"
   ]
  },
  {
   "cell_type": "code",
   "execution_count": 20,
   "metadata": {},
   "outputs": [],
   "source": [
    "# 定义名为 cope_one_data 的函数，该函数接受一个文件路径参数 file_path\n",
    "def cope_one_data(file_path):\n",
    "    # 创建一个空列表 one_num_data 用于保存一个数字的所有数据\n",
    "    one_num_data = []\n",
    "\n",
    "    # 使用 'utf-8' 编码打开文件\n",
    "    with open(file_path, 'r', encoding='utf-8') as file:\n",
    "        # 遍历文件的每一行\n",
    "        for line in file:\n",
    "            # 创建一个空列表 one_row_data 用于保存一行数据\n",
    "            one_row_data = []\n",
    "\n",
    "            # 去除每行的换行符，并将结果保存在 clean_str 中\n",
    "            clean_str = line.replace(\"\\n\", \"\")\n",
    "\n",
    "            # 遍历 clean_str 中的每个字符\n",
    "            for num in clean_str:\n",
    "                # 将字符转换为整数并添加到 one_row_data 中\n",
    "                one_row_data.append(int(num))\n",
    "\n",
    "            # 将 one_row_data 添加到 one_num_data 列表中\n",
    "            one_num_data.append(one_row_data)\n",
    "\n",
    "    # 将 one_num_data 转换为 NumPy 数组并保存在 one_num_data_array 中\n",
    "    one_num_data_array = np.array(one_num_data)\n",
    "\n",
    "    # 返回 one_num_data_array\n",
    "    return one_num_data_array\n",
    "\n"
   ]
  },
  {
   "cell_type": "markdown",
   "metadata": {},
   "source": [
    "### 2.2对部分数据进行可视化"
   ]
  },
  {
   "cell_type": "code",
   "execution_count": 21,
   "metadata": {},
   "outputs": [
    {
     "data": {
      "image/png": "[encoded data removed]",
      "text/plain": [
       "<Figure size 1200x600 with 10 Axes>"
      ]
     },
     "metadata": {},
     "output_type": "display_data"
    }
   ],
   "source": [
    "# 创建一个空列表 nums，用于存储处理后的数据\n",
    "nums = []\n",
    "\n",
    "# 使用循环遍历数字 0 到 9\n",
    "for i in range(10):\n",
    "    # 构建文件路径，每个文件包含一个手写数字的数据\n",
    "    path = 'kNN_hand_writing/trainingDigits/' + str(i) + '_0.txt'\n",
    "    \n",
    "    # 调用前面定义的 cope_one_data 函数处理文件并将结果添加到 nums 列表中\n",
    "    nums.append(cope_one_data(path))\n",
    "\n",
    "# 导入 matplotlib 库用于绘图\n",
    "import matplotlib.pyplot as plt\n",
    "\n",
    "# 创建一个 2x5 的子图布局，设置画布大小为 (12, 6)\n",
    "fig, axs = plt.subplots(2, 5, figsize=(12, 6))\n",
    "\n",
    "# 初始化变量 r 用于遍历 nums 列表\n",
    "r = 0\n",
    "\n",
    "# 嵌套循环以在子图中显示数字图像\n",
    "for i in range(2):\n",
    "    for j in range(5):\n",
    "        # 使用 imshow 函数显示数字图像\n",
    "        axs[i][j].imshow(nums[r])\n",
    "        \n",
    "        # 关闭子图坐标轴\n",
    "        axs[i, j].axis('off')\n",
    "        \n",
    "        # 更新 r 以继续遍历 nums 列表中的下一个数字图像\n",
    "        r = r + 1\n",
    "\n",
    "# 调整子图之间的间距\n",
    "plt.subplots_adjust(wspace=0.1, hspace=0.1)\n",
    "\n",
    "# 显示绘制的图像\n",
    "plt.show()\n",
    "\n",
    "\n",
    "\n"
   ]
  },
  {
   "cell_type": "markdown",
   "metadata": {},
   "source": [
    "## 3.批量处理训练集和测试集的数据"
   ]
  },
  {
   "cell_type": "markdown",
   "metadata": {},
   "source": [
    "### 3.1定义可以批量处理数据的函数"
   ]
  },
  {
   "cell_type": "code",
   "execution_count": 22,
   "metadata": {},
   "outputs": [],
   "source": [
    "# 定义名为 cope_data 的函数，该函数接受一个文件夹路径参数 folder_path\n",
    "def cope_data(folder_path):\n",
    "    # 创建一个空列表 all_num_data 用于保存所有数字的数据\n",
    "    all_num_data = []\n",
    "\n",
    "    # 创建一个空列表 num_label 用于保存数字的标签\n",
    "    num_label = []\n",
    "\n",
    "    # 创建一个空字典 dataset 用于保存数据集的 X 和 Y 部分\n",
    "    dataset = {}\n",
    "\n",
    "    # 使用 os.walk 遍历指定文件夹及其子文件夹\n",
    "    for foldername, subfolders, filenames in os.walk(folder_path):\n",
    "        # 遍历每个文件夹中的文件\n",
    "        for filename in filenames:\n",
    "            # 创建一个空列表 one_num_data 用于保存一个数字的数据\n",
    "            one_num_data = []\n",
    "\n",
    "            # 构建完整的文件路径\n",
    "            file_path = os.path.join(foldername, filename)\n",
    "\n",
    "            # 将文件名的第一个字符（数字对应的标签）转换为整数，并添加到 num_label 列表中\n",
    "            num_label.append(int(filename[0]))\n",
    "\n",
    "            # 使用 'utf-8' 编码打开文件\n",
    "            with open(file_path, 'r', encoding='utf-8') as file:\n",
    "                # 遍历文件的每一行\n",
    "                for line in file:\n",
    "                    # 去除每行的换行符，并将结果保存在 clean_str 中\n",
    "                    clean_str = line.replace(\"\\n\", \"\")\n",
    "\n",
    "                    # 遍历 clean_str 中的每个字符\n",
    "                    for num in clean_str:\n",
    "                        # 将字符转换为整数并添加到 one_num_data 中\n",
    "                        one_num_data.append(int(num))\n",
    "\n",
    "            # 将 one_num_data 添加到 all_num_data 列表中\n",
    "            all_num_data.append(one_num_data)\n",
    "\n",
    "    # 将 all_num_data 转换为 NumPy 数组\n",
    "    all_num_data_array = np.array(all_num_data)\n",
    "\n",
    "    # 将 num_label 转换为 NumPy 数组\n",
    "    num_label_array = np.array(num_label)\n",
    "\n",
    "    # 将数据集的 X 部分保存在 dataset 字典中\n",
    "    dataset['X'] = all_num_data_array\n",
    "\n",
    "    # 将数据集的 Y 部分保存在 dataset 字典中\n",
    "    dataset['Y'] = num_label_array\n",
    "\n",
    "    # 返回包含数据集的字典\n",
    "    return dataset\n"
   ]
  },
  {
   "cell_type": "markdown",
   "metadata": {},
   "source": [
    "### 3.2读取训练集数据"
   ]
  },
  {
   "cell_type": "code",
   "execution_count": 23,
   "metadata": {},
   "outputs": [
    {
     "name": "stdout",
     "output_type": "stream",
     "text": [
      "(1934, 1024)\n",
      "(1934,)\n"
     ]
    }
   ],
   "source": [
    "# 定义训练数据文件夹的路径\n",
    "train_folder_path = 'kNN_hand_writing/trainingDigits'\n",
    "\n",
    "# 使用前面定义的 cope_data 函数处理训练数据文件夹，返回数据集 train_dataset\n",
    "train_dataset = cope_data(train_folder_path)\n",
    "\n",
    "# 从 train_dataset 中获取训练数据部分 X_train\n",
    "X_train = train_dataset['X']\n",
    "\n",
    "# 从 train_dataset 中获取训练标签部分 y_train\n",
    "y_train = train_dataset['Y']\n",
    "\n",
    "# 打印训练数据的形状，即数据集中样本的数量和特征的维度\n",
    "print(X_train.shape)\n",
    "\n",
    "# 打印训练标签的形状，即标签数组的长度\n",
    "print(y_train.shape)\n"
   ]
  },
  {
   "cell_type": "markdown",
   "metadata": {},
   "source": [
    "### 3.3读取测试集数据"
   ]
  },
  {
   "cell_type": "code",
   "execution_count": 24,
   "metadata": {},
   "outputs": [
    {
     "name": "stdout",
     "output_type": "stream",
     "text": [
      "(946, 1024)\n",
      "(946,)\n"
     ]
    }
   ],
   "source": [
    "# 定义测试数据文件夹的路径\n",
    "test_folder_path = 'kNN_hand_writing/testDigits'\n",
    "\n",
    "# 使用前面定义的 cope_data 函数处理测试数据文件夹，返回数据集 test_dataset\n",
    "test_dataset = cope_data(test_folder_path)\n",
    "\n",
    "# 从 test_dataset 中获取测试数据部分 X_test\n",
    "X_test = test_dataset['X']\n",
    "\n",
    "# 从 test_dataset 中获取测试标签部分 y_test\n",
    "y_test = test_dataset['Y']\n",
    "\n",
    "# 打印测试数据的形状，即数据集中样本的数量和特征的维度\n",
    "print(X_test.shape)\n",
    "\n",
    "# 打印测试标签的形状，即标签数组的长度\n",
    "print(y_test.shape)\n"
   ]
  },
  {
   "cell_type": "markdown",
   "metadata": {},
   "source": [
    "## 4.手动实现KNN算法"
   ]
  },
  {
   "cell_type": "markdown",
   "metadata": {},
   "source": [
    "### 4.1定义一个用于计算距离的函数"
   ]
  },
  {
   "cell_type": "markdown",
   "metadata": {},
   "source": [
    "本项目所采用的距离是欧式距离\n"
   ]
  },
  {
   "cell_type": "code",
   "execution_count": 25,
   "metadata": {},
   "outputs": [],
   "source": [
    "def euclidean_distance(x1, x2):\n",
    "    return np.sqrt(np.sum((x1 - x2) ** 2))\n"
   ]
  },
  {
   "cell_type": "markdown",
   "metadata": {},
   "source": [
    "### 4.2定义用于预测的函数"
   ]
  },
  {
   "cell_type": "markdown",
   "metadata": {},
   "source": [
    "部分代码注释：\n",
    "\n",
    "np.bincount(k_nearest_labels): 用于统计一个列表中每个数字出现的次数\n",
    "\n",
    "比如：\n",
    "```\n",
    "a = np.bincount([8,8,7,9,9,9])\n",
    "print(a)\n",
    "\n",
    "输出结果为：[0 0 0 0 0 0 0 1 2 3]\n",
    "表示0~6出现了0次，7出现1次，8出现2次，9出现3次\n",
    "```\n",
    "\n",
    "\n",
    ".argmax(): 一旦我们有了每个标签出现的次数，我们使用argmax函数找到具有最大计数的标签的索引。换句话说，它返回了在数组中具有最大值的元素的索引。\n",
    "\n",
    "比如：\n",
    "```\n",
    "a = np.bincount([8,8,7,9,9,9]).argmax()\n",
    "print(a)\n",
    "\n",
    "输出结果为：9\n",
    "```"
   ]
  },
  {
   "cell_type": "code",
   "execution_count": 26,
   "metadata": {},
   "outputs": [],
   "source": [
    "def knn_predict(X_train, y_train, X_test, k=3):\n",
    "    y_pred = []\n",
    "    for x_test in X_test:\n",
    "        # 计算每一个测试样本与所有训练样本的距离\n",
    "        distances = [euclidean_distance(x_test, x_train) for x_train in X_train]\n",
    "        # 获取K个最近邻的训练样本的索引\n",
    "        k_indices = np.argsort(distances)[:k]\n",
    "        # 获取K个最近邻的训练样本的标签\n",
    "        k_nearest_labels = [y_train[i] for i in k_indices]\n",
    "        # 返回K个最近邻样本中最常见的标签作为预测结果\n",
    "        most_common = np.bincount(k_nearest_labels).argmax()\n",
    "        y_pred.append(most_common)\n",
    "    return np.array(y_pred)"
   ]
  },
  {
   "cell_type": "markdown",
   "metadata": {},
   "source": [
    "### 4.3进行预测并计算准确率"
   ]
  },
  {
   "cell_type": "code",
   "execution_count": 27,
   "metadata": {},
   "outputs": [
    {
     "name": "stdout",
     "output_type": "stream",
     "text": [
      "KNN分类器的准确度：98.84%\n"
     ]
    }
   ],
   "source": [
    "# 导入 scikit-learn 中的 accuracy_score 函数，用于计算分类准确度\n",
    "from sklearn.metrics import accuracy_score\n",
    "\n",
    "# 使用 knn_predict 函数对测试数据 X_test 进行预测，将结果保存在 y_pred 中\n",
    "y_pred = knn_predict(X_train, y_train, X_test)\n",
    "\n",
    "# 使用 accuracy_score 函数计算真实标签 y_test 和预测标签 y_pred 之间的准确度\n",
    "accuracy = accuracy_score(y_test, y_pred)\n",
    "\n",
    "# 打印 KNN 分类器的准确度，以百分比形式显示，保留两位小数\n",
    "print(f\"KNN分类器的准确度：{accuracy * 100:.2f}%\")\n"
   ]
  }
 ],
 "metadata": {
  "kernelspec": {
   "display_name": "ML",
   "language": "python",
   "name": "python3"
  },
  "language_info": {
   "codemirror_mode": {
    "name": "ipython",
    "version": 3
   },
   "file_extension": ".py",
   "mimetype": "text/x-python",
   "name": "python",
   "nbconvert_exporter": "python",
   "pygments_lexer": "ipython3",
   "version": "3.9.0"
  },
  "orig_nbformat": 4
 },
 "nbformat": 4,
 "nbformat_minor": 2
}
