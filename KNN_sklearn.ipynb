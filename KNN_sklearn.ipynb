{
 "cells": [
  {
   "cell_type": "markdown",
   "metadata": {},
   "source": [
    "## 1.导入对应的模块"
   ]
  },
  {
   "cell_type": "code",
   "execution_count": 1,
   "metadata": {},
   "outputs": [],
   "source": [
    "import numpy as np\n",
    "import os\n",
    "from sklearn.preprocessing import StandardScaler\n",
    "from sklearn.neighbors import KNeighborsClassifier\n",
    "from sklearn.metrics import accuracy_score"
   ]
  },
  {
   "cell_type": "markdown",
   "metadata": {},
   "source": [
    "## 2.数据可视化"
   ]
  },
  {
   "cell_type": "markdown",
   "metadata": {},
   "source": [
    "### 2.1定义一个用来处理一个数据的函数"
   ]
  },
  {
   "cell_type": "code",
   "execution_count": 2,
   "metadata": {},
   "outputs": [],
   "source": [
    "# 定义名为 cope_one_data 的函数，该函数接受一个文件路径参数 file_path\n",
    "def cope_one_data(file_path):\n",
    "    # 创建一个空列表 one_num_data 用于保存一个数字的所有数据\n",
    "    one_num_data = []\n",
    "\n",
    "    # 使用 'utf-8' 编码打开文件\n",
    "    with open(file_path, 'r', encoding='utf-8') as file:\n",
    "        # 遍历文件的每一行\n",
    "        for line in file:\n",
    "            # 创建一个空列表 one_row_data 用于保存一行数据\n",
    "            one_row_data = []\n",
    "\n",
    "            # 去除每行的换行符，并将结果保存在 clean_str 中\n",
    "            clean_str = line.replace(\"\\n\", \"\")\n",
    "\n",
    "            # 遍历 clean_str 中的每个字符\n",
    "            for num in clean_str:\n",
    "                # 将字符转换为整数并添加到 one_row_data 中\n",
    "                one_row_data.append(int(num))\n",
    "\n",
    "            # 将 one_row_data 添加到 one_num_data 列表中\n",
    "            one_num_data.append(one_row_data)\n",
    "\n",
    "    # 将 one_num_data 转换为 NumPy 数组并保存在 one_num_data_array 中\n",
    "    one_num_data_array = np.array(one_num_data)\n",
    "\n",
    "    # 返回 one_num_data_array\n",
    "    return one_num_data_array\n",
    "\n"
   ]
  },
  {
   "cell_type": "markdown",
   "metadata": {},
   "source": [
    "### 2.2对部分数据进行可视化"
   ]
  },
  {
   "cell_type": "code",
   "execution_count": 3,
   "metadata": {},
   "outputs": [
    {
     "data": {
      "image/png": "[encoded data removed]",
      "text/plain": [
       "<Figure size 1200x600 with 10 Axes>"
      ]
     },
     "metadata": {},
     "output_type": "display_data"
    }
   ],
   "source": [
    "# 创建一个空列表 nums，用于存储处理后的数据\n",
    "nums = []\n",
    "\n",
    "# 使用循环遍历数字 0 到 9\n",
    "for i in range(10):\n",
    "    # 构建文件路径，每个文件包含一个手写数字的数据\n",
    "    path = 'kNN_hand_writing/trainingDigits/' + str(i) + '_0.txt'\n",
    "    \n",
    "    # 调用前面定义的 cope_one_data 函数处理文件并将结果添加到 nums 列表中\n",
    "    nums.append(cope_one_data(path))\n",
    "\n",
    "# 导入 matplotlib 库用于绘图\n",
    "import matplotlib.pyplot as plt\n",
    "\n",
    "# 创建一个 2x5 的子图布局，设置画布大小为 (12, 6)\n",
    "fig, axs = plt.subplots(2, 5, figsize=(12, 6))\n",
    "\n",
    "# 初始化变量 r 用于遍历 nums 列表\n",
    "r = 0\n",
    "\n",
    "# 嵌套循环以在子图中显示数字图像\n",
    "for i in range(2):\n",
    "    for j in range(5):\n",
    "        # 使用 imshow 函数显示数字图像\n",
    "        axs[i][j].imshow(nums[r])\n",
    "        \n",
    "        # 关闭子图坐标轴\n",
    "        axs[i, j].axis('off')\n",
    "        \n",
    "        # 更新 r 以继续遍历 nums 列表中的下一个数字图像\n",
    "        r = r + 1\n",
    "\n",
    "# 调整子图之间的间距\n",
    "plt.subplots_adjust(wspace=0.1, hspace=0.1)\n",
    "\n",
    "# 显示绘制的图像\n",
    "plt.show()\n",
    "\n",
    "\n",
    "\n"
   ]
  },
  {
   "cell_type": "markdown",
   "metadata": {},
   "source": [
    "## 3.批量处理训练集和测试集的数据"
   ]
  },
  {
   "cell_type": "markdown",
   "metadata": {},
   "source": [
    "### 3.1定义可以批量处理数据的函数"
   ]
  },
  {
   "cell_type": "code",
   "execution_count": 4,
   "metadata": {},
   "outputs": [],
   "source": [
    "# 定义名为 cope_data 的函数，该函数接受一个文件夹路径参数 folder_path\n",
    "def cope_data(folder_path):\n",
    "    # 创建一个空列表 all_num_data 用于保存所有数字的数据\n",
    "    all_num_data = []\n",
    "\n",
    "    # 创建一个空列表 num_label 用于保存数字的标签\n",
    "    num_label = []\n",
    "\n",
    "    # 创建一个空字典 dataset 用于保存数据集的 X 和 Y 部分\n",
    "    dataset = {}\n",
    "\n",
    "    # 使用 os.walk 遍历指定文件夹及其子文件夹\n",
    "    for foldername, subfolders, filenames in os.walk(folder_path):\n",
    "        # 遍历每个文件夹中的文件\n",
    "        for filename in filenames:\n",
    "            # 创建一个空列表 one_num_data 用于保存一个数字的数据\n",
    "            one_num_data = []\n",
    "\n",
    "            # 构建完整的文件路径\n",
    "            file_path = os.path.join(foldername, filename)\n",
    "\n",
    "            # 将文件名的第一个字符（数字对应的标签）转换为整数，并添加到 num_label 列表中\n",
    "            num_label.append(int(filename[0]))\n",
    "\n",
    "            # 使用 'utf-8' 编码打开文件\n",
    "            with open(file_path, 'r', encoding='utf-8') as file:\n",
    "                # 遍历文件的每一行\n",
    "                for line in file:\n",
    "                    # 去除每行的换行符，并将结果保存在 clean_str 中\n",
    "                    clean_str = line.replace(\"\\n\", \"\")\n",
    "\n",
    "                    # 遍历 clean_str 中的每个字符\n",
    "                    for num in clean_str:\n",
    "                        # 将字符转换为整数并添加到 one_num_data 中\n",
    "                        one_num_data.append(int(num))\n",
    "\n",
    "            # 将 one_num_data 添加到 all_num_data 列表中\n",
    "            all_num_data.append(one_num_data)\n",
    "\n",
    "    # 将 all_num_data 转换为 NumPy 数组\n",
    "    all_num_data_array = np.array(all_num_data)\n",
    "\n",
    "    # 将 num_label 转换为 NumPy 数组\n",
    "    num_label_array = np.array(num_label)\n",
    "\n",
    "    # 将数据集的 X 部分保存在 dataset 字典中\n",
    "    dataset['X'] = all_num_data_array\n",
    "\n",
    "    # 将数据集的 Y 部分保存在 dataset 字典中\n",
    "    dataset['Y'] = num_label_array\n",
    "\n",
    "    # 返回包含数据集的字典\n",
    "    return dataset\n"
   ]
  },
  {
   "cell_type": "markdown",
   "metadata": {},
   "source": [
    "### 3.2读取训练集数据"
   ]
  },
  {
   "cell_type": "code",
   "execution_count": 5,
   "metadata": {},
   "outputs": [
    {
     "name": "stdout",
     "output_type": "stream",
     "text": [
      "(1934, 1024)\n",
      "(1934,)\n"
     ]
    }
   ],
   "source": [
    "# 定义训练数据文件夹的路径\n",
    "train_folder_path = 'kNN_hand_writing/trainingDigits'\n",
    "\n",
    "# 使用前面定义的 cope_data 函数处理训练数据文件夹，返回数据集 train_dataset\n",
    "train_dataset = cope_data(train_folder_path)\n",
    "\n",
    "# 从 train_dataset 中获取训练数据部分 X_train\n",
    "X_train = train_dataset['X']\n",
    "\n",
    "# 从 train_dataset 中获取训练标签部分 y_train\n",
    "y_train = train_dataset['Y']\n",
    "\n",
    "# 打印训练数据的形状，即数据集中样本的数量和特征的维度\n",
    "print(X_train.shape)\n",
    "\n",
    "# 打印训练标签的形状，即标签数组的长度\n",
    "print(y_train.shape)\n"
   ]
  },
  {
   "cell_type": "markdown",
   "metadata": {},
   "source": [
    "### 3.3读取测试集数据"
   ]
  },
  {
   "cell_type": "code",
   "execution_count": 6,
   "metadata": {},
   "outputs": [
    {
     "name": "stdout",
     "output_type": "stream",
     "text": [
      "(946, 1024)\n",
      "(946,)\n"
     ]
    }
   ],
   "source": [
    "# 定义测试数据文件夹的路径\n",
    "test_folder_path = 'kNN_hand_writing/testDigits'\n",
    "\n",
    "# 使用前面定义的 cope_data 函数处理测试数据文件夹，返回数据集 test_dataset\n",
    "test_dataset = cope_data(test_folder_path)\n",
    "\n",
    "# 从 test_dataset 中获取测试数据部分 X_test\n",
    "X_test = test_dataset['X']\n",
    "\n",
    "# 从 test_dataset 中获取测试标签部分 y_test\n",
    "y_test = test_dataset['Y']\n",
    "\n",
    "# 打印测试数据的形状，即数据集中样本的数量和特征的维度\n",
    "print(X_test.shape)\n",
    "\n",
    "# 打印测试标签的形状，即标签数组的长度\n",
    "print(y_test.shape)\n"
   ]
  },
  {
   "cell_type": "markdown",
   "metadata": {},
   "source": [
    "## 4.创建KNN模型并进行训练"
   ]
  },
  {
   "cell_type": "markdown",
   "metadata": {},
   "source": [
    "### 4.1创建KNN模型"
   ]
  },
  {
   "cell_type": "code",
   "execution_count": 7,
   "metadata": {},
   "outputs": [],
   "source": [
    "# 创建KNN模型\n",
    "k = 3\n",
    "\n",
    "# 创建一个KNN分类器，设置K值为3\n",
    "knn_classifier = KNeighborsClassifier(n_neighbors=k)"
   ]
  },
  {
   "cell_type": "markdown",
   "metadata": {},
   "source": [
    "### 4.2进行训练"
   ]
  },
  {
   "cell_type": "code",
   "execution_count": 8,
   "metadata": {},
   "outputs": [
    {
     "data": {
      "text/html": [
       "<style>#sk-container-id-1 {color: black;}#sk-container-id-1 pre{padding: 0;}#sk-container-id-1 div.sk-toggleable {background-color: white;}#sk-container-id-1 label.sk-toggleable__label {cursor: pointer;display: block;width: 100%;margin-bottom: 0;padding: 0.3em;box-sizing: border-box;text-align: center;}#sk-container-id-1 label.sk-toggleable__label-arrow:before {content: \"▸\";float: left;margin-right: 0.25em;color: #696969;}#sk-container-id-1 label.sk-toggleable__label-arrow:hover:before {color: black;}#sk-container-id-1 div.sk-estimator:hover label.sk-toggleable__label-arrow:before {color: black;}#sk-container-id-1 div.sk-toggleable__content {max-height: 0;max-width: 0;overflow: hidden;text-align: left;background-color: #f0f8ff;}#sk-container-id-1 div.sk-toggleable__content pre {margin: 0.2em;color: black;border-radius: 0.25em;background-color: #f0f8ff;}#sk-container-id-1 input.sk-toggleable__control:checked~div.sk-toggleable__content {max-height: 200px;max-width: 100%;overflow: auto;}#sk-container-id-1 input.sk-toggleable__control:checked~label.sk-toggleable__label-arrow:before {content: \"▾\";}#sk-container-id-1 div.sk-estimator input.sk-toggleable__control:checked~label.sk-toggleable__label {background-color: #d4ebff;}#sk-container-id-1 div.sk-label input.sk-toggleable__control:checked~label.sk-toggleable__label {background-color: #d4ebff;}#sk-container-id-1 input.sk-hidden--visually {border: 0;clip: rect(1px 1px 1px 1px);clip: rect(1px, 1px, 1px, 1px);height: 1px;margin: -1px;overflow: hidden;padding: 0;position: absolute;width: 1px;}#sk-container-id-1 div.sk-estimator {font-family: monospace;background-color: #f0f8ff;border: 1px dotted black;border-radius: 0.25em;box-sizing: border-box;margin-bottom: 0.5em;}#sk-container-id-1 div.sk-estimator:hover {background-color: #d4ebff;}#sk-container-id-1 div.sk-parallel-item::after {content: \"\";width: 100%;border-bottom: 1px solid gray;flex-grow: 1;}#sk-container-id-1 div.sk-label:hover label.sk-toggleable__label {background-color: #d4ebff;}#sk-container-id-1 div.sk-serial::before {content: \"\";position: absolute;border-left: 1px solid gray;box-sizing: border-box;top: 0;bottom: 0;left: 50%;z-index: 0;}#sk-container-id-1 div.sk-serial {display: flex;flex-direction: column;align-items: center;background-color: white;padding-right: 0.2em;padding-left: 0.2em;position: relative;}#sk-container-id-1 div.sk-item {position: relative;z-index: 1;}#sk-container-id-1 div.sk-parallel {display: flex;align-items: stretch;justify-content: center;background-color: white;position: relative;}#sk-container-id-1 div.sk-item::before, #sk-container-id-1 div.sk-parallel-item::before {content: \"\";position: absolute;border-left: 1px solid gray;box-sizing: border-box;top: 0;bottom: 0;left: 50%;z-index: -1;}#sk-container-id-1 div.sk-parallel-item {display: flex;flex-direction: column;z-index: 1;position: relative;background-color: white;}#sk-container-id-1 div.sk-parallel-item:first-child::after {align-self: flex-end;width: 50%;}#sk-container-id-1 div.sk-parallel-item:last-child::after {align-self: flex-start;width: 50%;}#sk-container-id-1 div.sk-parallel-item:only-child::after {width: 0;}#sk-container-id-1 div.sk-dashed-wrapped {border: 1px dashed gray;margin: 0 0.4em 0.5em 0.4em;box-sizing: border-box;padding-bottom: 0.4em;background-color: white;}#sk-container-id-1 div.sk-label label {font-family: monospace;font-weight: bold;display: inline-block;line-height: 1.2em;}#sk-container-id-1 div.sk-label-container {text-align: center;}#sk-container-id-1 div.sk-container {/* jupyter's `normalize.less` sets `[hidden] { display: none; }` but bootstrap.min.css set `[hidden] { display: none !important; }` so we also need the `!important` here to be able to override the default hidden behavior on the sphinx rendered scikit-learn.org. See: https://github.com/scikit-learn/scikit-learn/issues/21755 */display: inline-block !important;position: relative;}#sk-container-id-1 div.sk-text-repr-fallback {display: none;}</style><div id=\"sk-container-id-1\" class=\"sk-top-container\"><div class=\"sk-text-repr-fallback\"><pre>KNeighborsClassifier(n_neighbors=3)</pre><b>In a Jupyter environment, please rerun this cell to show the HTML representation or trust the notebook. <br />On GitHub, the HTML representation is unable to render, please try loading this page with nbviewer.org.</b></div><div class=\"sk-container\" hidden><div class=\"sk-item\"><div class=\"sk-estimator sk-toggleable\"><input class=\"sk-toggleable__control sk-hidden--visually\" id=\"sk-estimator-id-1\" type=\"checkbox\" checked><label for=\"sk-estimator-id-1\" class=\"sk-toggleable__label sk-toggleable__label-arrow\">KNeighborsClassifier</label><div class=\"sk-toggleable__content\"><pre>KNeighborsClassifier(n_neighbors=3)</pre></div></div></div></div></div>"
      ],
      "text/plain": [
       "KNeighborsClassifier(n_neighbors=3)"
      ]
     },
     "execution_count": 8,
     "metadata": {},
     "output_type": "execute_result"
    }
   ],
   "source": [
    "# 使用训练数据对KNN模型进行训练\n",
    "knn_classifier.fit(X_train, y_train)  "
   ]
  },
  {
   "cell_type": "markdown",
   "metadata": {},
   "source": [
    "### 4.3进行预测"
   ]
  },
  {
   "cell_type": "code",
   "execution_count": 9,
   "metadata": {},
   "outputs": [],
   "source": [
    "# 使用模型对测试数据进行预测\n",
    "y_pred = knn_classifier.predict(X_test) \n",
    "\n",
    "# 计算模型在测试数据上的准确率\n",
    "accuracy = accuracy_score(y_test, y_pred)  \n"
   ]
  },
  {
   "cell_type": "markdown",
   "metadata": {},
   "source": [
    "### 4.4查看准确率"
   ]
  },
  {
   "cell_type": "code",
   "execution_count": 10,
   "metadata": {},
   "outputs": [
    {
     "name": "stdout",
     "output_type": "stream",
     "text": [
      "KNN模型在测试数据上的准确率：0.99\n"
     ]
    }
   ],
   "source": [
    "print(f'KNN模型在测试数据上的准确率：{accuracy:.2f}')\n"
   ]
  }
 ],
 "metadata": {
  "kernelspec": {
   "display_name": "ML",
   "language": "python",
   "name": "python3"
  },
  "language_info": {
   "codemirror_mode": {
    "name": "ipython",
    "version": 3
   },
   "file_extension": ".py",
   "mimetype": "text/x-python",
   "name": "python",
   "nbconvert_exporter": "python",
   "pygments_lexer": "ipython3",
   "version": "3.9.0"
  },
  "orig_nbformat": 4
 },
 "nbformat": 4,
 "nbformat_minor": 2
}
